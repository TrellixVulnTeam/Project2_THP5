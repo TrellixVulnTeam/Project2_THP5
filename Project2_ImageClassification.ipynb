{
 "cells": [
  {
   "cell_type": "markdown",
   "metadata": {},
   "source": [
    "## Image Classification on the cifar dataset using CNN"
   ]
  },
  {
   "cell_type": "markdown",
   "metadata": {},
   "source": [
    "Step 1: Import the libraries"
   ]
  },
  {
   "cell_type": "code",
   "execution_count": 1,
   "metadata": {},
   "outputs": [
    {
     "name": "stderr",
     "output_type": "stream",
     "text": [
      "C:\\Users\\Monica\\Anaconda3\\lib\\site-packages\\h5py\\__init__.py:36: FutureWarning: Conversion of the second argument of issubdtype from `float` to `np.floating` is deprecated. In future, it will be treated as `np.float64 == np.dtype(float).type`.\n",
      "  from ._conv import register_converters as _register_converters\n"
     ]
    }
   ],
   "source": [
    "from urllib.request import urlretrieve\n",
    "from os.path import isfile, isdir\n",
    "from tqdm import tqdm\n",
    "import tarfile\n",
    "import pickle\n",
    "import numpy as np\n",
    "import matplotlib.pyplot as plt\n",
    "from sklearn.preprocessing import LabelBinarizer\n",
    "import tensorflow as tf\n",
    "import functools\n",
    "import sklearn.preprocessing "
   ]
  },
  {
   "cell_type": "markdown",
   "metadata": {},
   "source": [
    "Setting some global variables for filepath and network architecture"
   ]
  },
  {
   "cell_type": "code",
   "execution_count": 2,
   "metadata": {},
   "outputs": [],
   "source": [
    "cifar10_dataset_folder_path= 'cifar-10-batches-py'\n",
    "\n",
    "n_nodes_hl1 = 500\n",
    "n_nodes_hl2 = 500\n",
    "n_nodes_hl3 = 500\n",
    "\n",
    "n_classes = 10 #data belongs to classes {'airplane', 'automobile', 'bird', 'cat', 'deer', 'dog', 'frog', 'horse', 'ship', 'truck'}\n",
    "n_inputs = 3072 #image size is 32X32 and 3 channels - \n",
    "batch_size = 25 #50\n",
    "keep_prob = 0.5\n",
    "#keep_prob = 1.0\n",
    "num_training = 10000\n",
    "num_testing = 2000"
   ]
  },
  {
   "cell_type": "markdown",
   "metadata": {},
   "source": [
    "Methods for loading the data from the internet"
   ]
  },
  {
   "cell_type": "code",
   "execution_count": 3,
   "metadata": {},
   "outputs": [],
   "source": [
    "class DLProgress(tqdm):\n",
    "    last_block= 0\n",
    "    \n",
    "    def hook(self, block_num=1, block_size=1, total_size=None):\n",
    "        self.total= total_size\n",
    "        self.update((block_num - self.last_block) * block_size)\n",
    "        self.last_block= block_num\n",
    "        \n",
    "        \n",
    "if not isfile('cifar-10-python.tar.gz'):\n",
    "    with DLProgress(unit='B', unit_scale=True, miniters=1, desc='CIFAR-10 Dataset') as pbar:\n",
    "        urlretrieve('https://www.cs.toronto.edu/~kriz/cifar-10-python.tar.gz','cifar-10-python.tar.gz',pbar.hook)\n",
    "        \n",
    "if not isdir(cifar10_dataset_folder_path):\n",
    "    with tarfile.open('cifar-10-python.tar.gz') as tar:\n",
    "        tar.extractall()\n",
    "        tar.close()"
   ]
  },
  {
   "cell_type": "markdown",
   "metadata": {},
   "source": [
    "Helper methods to load records, get stats, display images"
   ]
  },
  {
   "cell_type": "code",
   "execution_count": 4,
   "metadata": {},
   "outputs": [],
   "source": [
    "def _load_label_names():\n",
    "    \"\"\"\n",
    "    Load the label names from file\n",
    "    \"\"\"\n",
    "    \n",
    "    return['airplane', 'automobile', 'bird', 'cat', 'deer', 'dog', 'frog', 'horse', 'ship', 'truck']\n",
    "\n",
    "def load_cfar10_batch(cifar10_dataset_folder_path, batch_id):\n",
    "    \"\"\"\n",
    "    Load a batch of the dataset\n",
    "    \"\"\"\n",
    "    with open(cifar10_dataset_folder_path + '/data_batch_' + str(batch_id), mode='rb') as file:\n",
    "        batch = pickle.load(file, encoding='latin1')\n",
    "\n",
    "    features = batch['data'].reshape((len(batch['data']), 3, 32, 32)).transpose(0, 2, 3, 1)\n",
    "    labels = batch['labels']\n",
    "\n",
    "    return features, labels\n",
    "\n",
    "def display_stats(cifar10_dataset_folder_path, batch_id, sample_id):\n",
    "    \"\"\"\n",
    "    Display Stats of the the dataset\n",
    "    \"\"\"\n",
    "    batch_ids = list(range(1, 6))\n",
    "\n",
    "    if batch_id not in batch_ids:\n",
    "        print('Batch Id out of Range. Possible Batch Ids: {}'.format(batch_ids))\n",
    "        return None\n",
    "\n",
    "    features, labels = load_cfar10_batch(cifar10_dataset_folder_path, batch_id)\n",
    "\n",
    "    if not (0 <= sample_id < len(features)):\n",
    "        print('{} samples in batch {}.  {} is out of range.'.format(len(features), batch_id, sample_id))\n",
    "        return None\n",
    "\n",
    "    print('\\nStats of batch {}:'.format(batch_id))\n",
    "    print('Samples: {}'.format(len(features)))\n",
    "    print('Label Counts: {}'.format(dict(zip(*np.unique(labels, return_counts=True)))))\n",
    "    print('First 20 Labels: {}'.format(labels[:20]))\n",
    "\n",
    "    sample_image = features[sample_id]\n",
    "    sample_label = labels[sample_id]\n",
    "    label_names = _load_label_names()\n",
    "\n",
    "    print('\\nExample of Image {}:'.format(sample_id))\n",
    "    print('Image - Min Value: {} Max Value: {}'.format(sample_image.min(), sample_image.max()))\n",
    "    print('Image - Shape: {}'.format(sample_image.shape))\n",
    "    print('Label - Label Id: {} Name: {}'.format(sample_label, label_names[sample_label]))\n",
    "    plt.axis('off')\n",
    "    plt.imshow(sample_image)\n",
    "    #plt.show(sample_image)\n",
    "    plt.show()"
   ]
  },
  {
   "cell_type": "markdown",
   "metadata": {},
   "source": [
    "Methods to pre-process and load data records from file"
   ]
  },
  {
   "cell_type": "code",
   "execution_count": 5,
   "metadata": {},
   "outputs": [],
   "source": [
    "def normalize(list_image_data):\n",
    "    \n",
    "    x = np.array(list_image_data)\n",
    "    x_max = np.max(x)\n",
    "    x_min = np.min(x)\n",
    "    output = (x - x_min)/(x_max - x_min)\n",
    "    return output\n",
    "    ''' \n",
    "    if(list_image_data.ndim == 4):\n",
    "        p,m,n,r = list_image_data.shape\n",
    "        img_arr_norm = np.empty(list_image_data.shape, dtype = np.float32)\n",
    "        \n",
    "        for i in range(p):\n",
    "            img = list_image_data[i]\n",
    "            img_a = img[:, :, 0]\n",
    "            img_b = img[:, :, 1]\n",
    "            img_c = img[:, :, 2]  # Extracting single channels from 3 channel image\n",
    "            # The above code could also be replaced with cv2.split(img) << which will return 3 numpy arrays (using opencv)\n",
    "            \n",
    "            # normalizing per channel data:\n",
    "            img_a = sklearn.preprocessing.normalize(img_a)\n",
    "            img_b = sklearn.preprocessing.normalize(img_b)\n",
    "            img_c = sklearn.preprocessing.normalize(img_c)\n",
    "            \n",
    "            # putting the 3 channels back together:\n",
    "            img_arr_norm[i, :, :, 0] = img_a\n",
    "            img_arr_norm[i, :, :, 1] = img_b\n",
    "            img_arr_norm[i, :, :, 2] = img_c \n",
    "        \n",
    "        for i in range(p):\n",
    "            img_a = (img_a - img_a.mean()) / (img_a.std())\n",
    "            img_b = (img_b - img_b.mean()) / (img_b.std())\n",
    "            img_c = (img_c - img_c.mean()) / (img_c.std())\n",
    "            v_mean = img.mean(axis = (0, 1, 2), keepdims = True)\n",
    "            v_std = img.std(axis = (0, 1, 2), keepdims = True)\n",
    "            img_norm = (img - v_mean) / v_std\n",
    "            img_arr_norm[i] = img_norm\n",
    "                \n",
    "    else:\n",
    "        raise Exception(\"Invalid number of arguments to normalize method.\")\n",
    "            \n",
    "    \n",
    "    #img_arr_norm = list_image_data.astype('float32')\n",
    "    \n",
    "    #mean = np.mean(img_arr_norm, axis = (0,1,2,3))\n",
    "    #std = np.std(img_arr_norm, axis = (0,1,2,3))\n",
    "    #img_arr_norm = (img_arr_norm - mean) / (std+1e-7)\n",
    "    \n",
    "    return img_arr_norm \n",
    "    #return list_image_data\n",
    "    '''\n",
    "\n",
    "def one_hot_encode(label_value_list):\n",
    "    #all_labels = _load_label_names()\n",
    "    coded_label_list = []\n",
    "    for i in range(len(label_value_list)):\n",
    "        coded_label = [0]*n_classes\n",
    "        #ind = all_labels.index(label_value)\n",
    "        #coded_label[ind] = 1\n",
    "        coded_label[label_value_list[i] - 1] = 1\n",
    "        coded_label_list.append(coded_label)\n",
    "    return coded_label_list\n",
    "\n",
    "\n",
    "def _preprocess_and_save(normalize, one_hot_encode, features, labels, filename):\n",
    "    \"\"\"\n",
    "    Preprocess data and save it to file\n",
    "    \"\"\"\n",
    "    \n",
    "    features = normalize(features)\n",
    "    labels = one_hot_encode(labels)\n",
    "\n",
    "    pickle.dump((features, labels), open(filename, 'wb'))\n",
    "\n",
    "\n",
    "def preprocess_and_save_data(cifar10_dataset_folder_path, normalize, one_hot_encode):\n",
    "    \"\"\"\n",
    "    Preprocess Training and Validation Data\n",
    "    \"\"\"\n",
    "    #n_batches = 5\n",
    "    n_batches = 1\n",
    "    valid_features = []\n",
    "    valid_labels = []\n",
    "    \n",
    "    print(\"Before normalization: 1st batch, first 5 images\")\n",
    "    display_stats(cifar10_dataset_folder_path, 1, 0)\n",
    "    display_stats(cifar10_dataset_folder_path, 1, 1)\n",
    "    display_stats(cifar10_dataset_folder_path, 1, 2)\n",
    "    display_stats(cifar10_dataset_folder_path, 1, 3)\n",
    "    display_stats(cifar10_dataset_folder_path, 1, 4)\n",
    "\n",
    "    for batch_i in range(1, n_batches + 1):\n",
    "        features, labels = load_cfar10_batch(cifar10_dataset_folder_path, batch_i)\n",
    "        validation_count = int(len(features) * 0.1)\n",
    "        #print(\"validation count: \",validation_count)\n",
    "        \n",
    "        #print(features.shape)\n",
    "        \n",
    "        if (batch_i == 1):\n",
    "            unique = functools.reduce(lambda l, x: l+[x] if x not in l else l, labels[0:num_training], [])\n",
    "            print(unique)\n",
    "            plt.title(\"Representation of the different classes in training set.\")\n",
    "            plt.hist(labels[0:num_training], bins = 10, rwidth = 0.5)\n",
    "            plt.show()\n",
    "        \n",
    "        \n",
    "        # Prprocess and save a batch of training data\n",
    "        _preprocess_and_save(\n",
    "            normalize,\n",
    "            one_hot_encode,\n",
    "            features[:-validation_count],\n",
    "            labels[:-validation_count],\n",
    "            'preprocess_batch_' + str(batch_i) + '.p')\n",
    "\n",
    "        # Use a portion of training batch for validation\n",
    "        valid_features.extend(features[-validation_count:])\n",
    "        valid_labels.extend(labels[-validation_count:])\n",
    "        \n",
    "    \n",
    "    plt.title(\"Representation of the different classes in test set.\")\n",
    "    plt.hist(valid_labels[0:num_testing], bins = 10, rwidth = 0.5)\n",
    "    plt.show()\n",
    "\n",
    "    # Preprocess and Save all validation data\n",
    "    _preprocess_and_save(\n",
    "        normalize,\n",
    "        one_hot_encode,\n",
    "        np.array(valid_features),\n",
    "        np.array(valid_labels),\n",
    "        'preprocess_validation.p')\n",
    "\n",
    "    with open(cifar10_dataset_folder_path + '/test_batch', mode='rb') as file:\n",
    "        batch = pickle.load(file, encoding='latin1')\n",
    "\n",
    "    # load the training data\n",
    "    test_features = batch['data'].reshape((len(batch['data']), 3, 32, 32)).transpose(0, 2, 3, 1)\n",
    "    test_labels = batch['labels']\n",
    "\n",
    "    # Preprocess and Save all training data\n",
    "    _preprocess_and_save(\n",
    "        normalize,\n",
    "        one_hot_encode,\n",
    "        np.array(test_features),\n",
    "        np.array(test_labels),\n",
    "        'preprocess_testing.p')\n",
    "    \n",
    "    _preprocess_and_save(\n",
    "            normalize,\n",
    "            one_hot_encode,\n",
    "            features[0:5],\n",
    "            labels[0:5],\n",
    "            'first_five.p')\n",
    "    \n",
    "    features2, labels2 = pickle.load(open('first_five.p', mode='rb'))\n",
    "    \n",
    "    print(\"len(features2) : \", len(features2))\n",
    "    print(\"len(labels2) : \", len(labels2))\n",
    "    \n",
    "    print(\"After normalization: 1st batch, first five images\")\n",
    "    plt.axis('off')\n",
    "    plt.imshow(features2[0])\n",
    "    plt.show()\n",
    "    \n",
    "    plt.axis('off')\n",
    "    plt.imshow(features2[1])    \n",
    "    plt.show()\n",
    "    \n",
    "    plt.axis('off')\n",
    "    plt.imshow(features2[2])\n",
    "    plt.show()\n",
    "    \n",
    "    plt.axis('off')\n",
    "    plt.imshow(features2[3])\n",
    "    plt.show()\n",
    "    \n",
    "    plt.axis('off')\n",
    "    plt.imshow(features2[4])\n",
    "    #plt.show(sample_image)\n",
    "    plt.show()\n",
    "    \n",
    "    \n",
    "def batch_features_labels(features, labels, batch_size):\n",
    "    \"\"\"\n",
    "    Split features and labels into batches\n",
    "    \"\"\"\n",
    "    for start in range(0, len(features), batch_size):\n",
    "        end = min(start + batch_size, len(features))\n",
    "        #print(features[start].shape)\n",
    "        yield features[start:end], labels[start:end] "
   ]
  },
  {
   "cell_type": "markdown",
   "metadata": {},
   "source": [
    "More methods for loading and display"
   ]
  },
  {
   "cell_type": "code",
   "execution_count": 6,
   "metadata": {},
   "outputs": [],
   "source": [
    "def load_all_validation_data(batch_size):\n",
    "    filename = 'preprocess_validation.p'\n",
    "    if(isfile(filename)):\n",
    "        features, labels = pickle.load(open(filename, mode='rb'))\n",
    "        f,l = features[0:num_testing], labels[0:num_testing]\n",
    "        return batch_features_labels(f, l, batch_size)\n",
    "    \n",
    "def load_all_training_data(batch_size):\n",
    "    filename = 'preprocess_training.p'\n",
    "    if(isfile(filename)):\n",
    "        features, labels = pickle.load(open(filename, mode='rb'))\n",
    "        return batch_features_labels(features[0:num_training], labels[0:num_training], batch_size)\n",
    "    else:\n",
    "        exit(-1)\n",
    "\n",
    "    \n",
    "\n",
    "def load_training_batch(batch_size, batch_number):\n",
    "    filename = cifar10_dataset_folder_path + '/test_batch/'\n",
    "    filename = 'preprocess_training.p'\n",
    "    if(isfile(filename)):\n",
    "        features, labels = pickle.load(open(filename, mode='rb'))\n",
    "        return batch_features_labels(features, labels, batch_size)\n",
    "    else:\n",
    "        exit(-1)\n",
    "    \n",
    "\n",
    "def load_validation_batch(batch_size, batch_number):\n",
    "    #filename = cifar10_dataset_folder_path + '/test_batch/'\n",
    "    filename = 'preprocess_validation.p'\n",
    "    if(isfile(filename)):\n",
    "        features, labels = pickle.load(open(filename, mode='rb'))\n",
    "        return batch_features_labels(features, labels, batch_size)\n",
    "    else:\n",
    "        exit(-1)\n",
    "    \n",
    "\n",
    "\n",
    "def display_image_predictions(features, labels, predictions):\n",
    "    n_classes = 10\n",
    "    label_names = _load_label_names()\n",
    "    label_binarizer = LabelBinarizer()\n",
    "    label_binarizer.fit(range(n_classes))\n",
    "    label_ids = label_binarizer.inverse_transform(np.array(labels))\n",
    "    \n",
    "    pred_ids = label_binarizer.inverse_transform(np.array(predictions))\n",
    "\n",
    "    #fig, axies = plt.subplots(nrows=4, ncols=2)\n",
    "    #fig, axies = plt.subplots(nrows=1, ncols=2)\n",
    "    plt.tight_layout()\n",
    "    plt.title('Softmax Predictions', fontsize=20, y=1.1)\n",
    "\n",
    "    #n_predictions = 3\n",
    "    n_predictions = 1\n",
    "    margin = 0.05\n",
    "    ind = np.arange(n_predictions)\n",
    "    width = (1. - 2. * margin) / n_predictions\n",
    "\n",
    "    #for image_i, (feature, label_id, pred_indicies, pred_values) in enumerate(zip(features, label_ids, predictions.indices, predictions.values)):\n",
    "    for image_i, (feature, label_id, pred_id) in enumerate(zip(features, label_ids, pred_ids)):\n",
    "        #pred_names = [label_names[pred_i] for pred_i in pred_indicies]\n",
    "        pred_name = label_names[pred_id] \n",
    "        correct_name = label_names[label_id]\n",
    "        \n",
    "        plt.imshow(feature*255)\n",
    "        plt.title(pred_name)\n",
    "        title_obj = plt.title(str(pred_name).upper()) #get the title property handler\n",
    "        plt.setp(title_obj, color='r' if pred_name != correct_name else 'g')\n",
    "        plt.setp(title_obj, fontsize=13)\n",
    "        plt.show()\n",
    "        \n",
    "        '''\n",
    "\n",
    "        axies[image_i][0].imshow(feature*255)\n",
    "        axies[image_i][0].set_title(correct_name)\n",
    "        axies[image_i][0].set_axis_off()\n",
    "        \n",
    "        axies[image_i][1].imshow(feature*255)\n",
    "        axies[image_i][1].set_title(pred_name)\n",
    "        axies[image_i][1].set_axis_off()\n",
    "\n",
    "        \n",
    "\n",
    "        axies[image_i][1].barh(ind + margin, pred_values[::-1], width)\n",
    "        axies[image_i][1].set_yticks(ind + margin)\n",
    "        axies[image_i][1].set_yticklabels(pred_names[::-1])\n",
    "        axies[image_i][1].set_xticks([0, 0.5, 1.0])\n",
    "        '''"
   ]
  },
  {
   "cell_type": "markdown",
   "metadata": {},
   "source": [
    "Step 2: Defining the network variables"
   ]
  },
  {
   "cell_type": "code",
   "execution_count": 7,
   "metadata": {},
   "outputs": [],
   "source": [
    "## x is your data, you do not need to specify the size of the matrix [None, n_inputs], \n",
    "## but this will cause tensorflow to throw an error if data is loaded outside of that shape\n",
    "## This may need to be changed if your data set is not the mnist\n",
    "x = tf.placeholder(dtype=tf.float64,shape=[None, n_inputs], name = \"x\")\n",
    "y = tf.placeholder(dtype=tf.float64,shape=[None, n_classes], name = \"y\")\n",
    "prediction = tf.placeholder(dtype=tf.float64, shape=[None, n_classes], name = \"prediction\")\n",
    "#x is a placeholder, a value we'll input when we ask tensorflow to run a computation.\n",
    "#The first argument which is 'None' means that a dimension can be of any length. \n",
    "W = tf.Variable(tf.zeros([n_inputs,n_classes]))\n",
    "b = tf.Variable(tf.zeros([n_classes]))"
   ]
  },
  {
   "cell_type": "markdown",
   "metadata": {},
   "source": [
    "Step 3: Defining network functions"
   ]
  },
  {
   "cell_type": "code",
   "execution_count": 8,
   "metadata": {},
   "outputs": [],
   "source": [
    "def weight_variable(shape):\n",
    "    initial = tf.truncated_normal(shape, stddev=0.2)\n",
    "    \n",
    "#Outputs random values from a truncated normal distribution.\n",
    "#The generated values follow a normal distribution with specified mean and standard deviation, except that values whose magnitude is more than 2 standard deviations from the mean are dropped and re-picked.\n",
    "    return tf.Variable(initial)\n",
    "\n",
    "def bias_variable(shape):\n",
    "    initial = tf.constant(0.1, shape=shape)\n",
    "    return tf.Variable(initial)\n",
    "\n",
    "def conv2d(x, W):\n",
    "    return tf.nn.conv2d(x, W, strides=[1, 1, 1, 1], padding='SAME')\n",
    "#The strides argument specifies how much the window shifts in each of the input dimensions. The dimensions are batch, height, width, chanels. Here, because the image is greyscale, there is only 1 dimension. A batch size of 1 means that a single example is processed at a time. A value of 1 in row/column means that we apply the operator at every row and column. When the padding parameter takes the value of 'SAME', this means that for those elements which have the filter sticking out during convolution, the portions of the filter that stick out are assumed to contribute 0 to the dot product. The size of the image remains the same after the operation remains the same. When the padding = 'VALID' option is used, the filter is centered along the center of the image, so that the filter does not stick out. So the output image size would have been 3X3. \n",
    "\n",
    "def max_pool_2x2(x):\n",
    "    return tf.nn.max_pool(x, ksize=[1, 2, 2, 1],strides=[1, 2, 2, 1], padding='SAME')\n",
    "\n",
    "def neural_network_model(data):\n",
    "    W_fc1 = weight_variable([n_inputs, n_nodes_hl1])\n",
    "    b_fc1 = bias_variable([n_nodes_hl1])\n",
    "\n",
    "    W_fc2 = weight_variable([n_nodes_hl1, n_nodes_hl2])\n",
    "    b_fc2 = bias_variable([n_nodes_hl2])\n",
    "\n",
    "    W_fc3 = weight_variable([n_nodes_hl2, n_nodes_hl3])\n",
    "    b_fc3 = bias_variable([n_nodes_hl3])\n",
    "\n",
    "    W_output = weight_variable([n_nodes_hl3,n_classes])\n",
    "    b_output = bias_variable([n_classes])\n",
    "\n",
    "    l1 = tf.nn.relu(tf.matmul(data,W_fc1) + b_fc1)\n",
    "    l2 = tf.nn.relu(tf.matmul(l1,W_fc2) + b_fc2)\n",
    "    l3 = tf.nn.relu(tf.matmul(l2,W_fc3) + b_fc3)\n",
    "\n",
    "    output = tf.matmul(l3, W_output) + b_output\n",
    "    return output\n",
    "\n",
    "def conv_network_model(x):\n",
    "        \n",
    "    W_conv1 = weight_variable([5, 5, 3, 32])\n",
    "    #Weight variable dimensions - filter dimensions - width x height x channels x number of filters\n",
    "    #[5,5,3,32] - 5x5 dimensions; 3 - Depth must match that of input image; 32 - Number of filters of size 5x5\n",
    "    #Number of channels in output image - number of filters in the filter\n",
    "    #Size of output image: ([W-F+2P]/S)+1\n",
    "    #W is the input volume size\n",
    "    #F is the size of the filter\n",
    "    #P is the number of padding applied\n",
    "    #S is the number of strides.\n",
    "    b_conv1 = bias_variable([32])\n",
    "\n",
    "    \n",
    "    x_image = tf.reshape(x, [-1,32,32,3])\n",
    "    x_image = tf.cast(x_image, tf.float32)\n",
    "#A value of -1 for the reshape parameter is to allow the input to dynamically decide what value that parameter should take.\n",
    "#Since we use x_image as an input to conv2d, it would seem we are changing it from the 1X3072 shape to a shape which has 4 parameters. \n",
    "#The first new parameter would be the number of images. \n",
    "#The second and third would be the dimensions of the image.\n",
    "#The fourth would be the number of channels in the input image. \n",
    "\n",
    "\n",
    "    h_conv1 = tf.nn.relu(conv2d(x_image, W_conv1) + b_conv1)\n",
    "#After convolution, the number of images would be the same as that in x_image. The dimensions would depend on image size, filter size and padding. The number of channels would depend on the number of channels in the filter.\n",
    "    h_pool1 = max_pool_2x2(h_conv1)\n",
    "#At the end of the first pooling layer, there is a 16X16 image.\n",
    "\n",
    "    #print(\"Layer 1\")\n",
    "\n",
    "    W_conv2 = weight_variable([5, 5, 32, 64])\n",
    "    b_conv2 = bias_variable([64])\n",
    "\n",
    "    h_conv2 = tf.nn.relu(conv2d(h_pool1, W_conv2) + b_conv2)\n",
    "    h_pool2 = max_pool_2x2(h_conv2)\n",
    "#At the end of the second pooling layer, there is a 8X8 image.\n",
    "    #print(\"Layer 2\")\n",
    "\n",
    "    W_fc1 = weight_variable([8 * 8 * 64, 1024])\n",
    "    b_fc1 = bias_variable([1024])\n",
    "#1024 - an arbitrary choice?\n",
    "\n",
    "    #print(h_pool2.shape)\n",
    "    h_pool2_flat = tf.reshape(h_pool2, [-1, 8*8*64])\n",
    "    h_fc1 = tf.nn.relu(tf.matmul(h_pool2_flat, W_fc1) + b_fc1)\n",
    "\n",
    "    h_fc1_drop = tf.nn.dropout(h_fc1, keep_prob)\n",
    "\n",
    "    W_fc2 = weight_variable([1024, 10])\n",
    "    b_fc2 = bias_variable([10])\n",
    "\n",
    "    #output=tf.nn.softmax(tf.matmul(h_fc1_drop, W_fc2) + b_fc2)\n",
    "    output=tf.matmul(h_fc1, W_fc2) + b_fc2\n",
    "    \n",
    "       \n",
    "    return output\n"
   ]
  },
  {
   "cell_type": "markdown",
   "metadata": {},
   "source": [
    "Step 4: Defining the driver function"
   ]
  },
  {
   "cell_type": "code",
   "execution_count": 9,
   "metadata": {
    "scrolled": false
   },
   "outputs": [],
   "source": [
    "def train_neural_network(x, network_model):\n",
    "    prediction = network_model(x)\n",
    "    logits_p = tf.nn.softmax_cross_entropy_with_logits(logits=prediction,labels=y,name=\"logits_p\")\n",
    "    cost = tf.reduce_mean(logits_p) \n",
    "    #logit - unnormalized log of probability,#softmax - allows normalization of values\n",
    "    train_step = tf.train.AdamOptimizer(1e-4).minimize(cost)\n",
    "    #train_step = tf.train.GradientDescentOptimizer(1e-2).minimize(cost)\n",
    "    correct_prediction = tf.equal(tf.argmax(prediction,1), tf.argmax(y,1))\n",
    "    #tf.equal - returns the truth value of whether the 2 arguments were equal.\n",
    "    #checks whether for the first dimension the largest probabiliry with one hot encoding \n",
    "    #is the same with the predicted and actual values. \n",
    "    accuracy = tf.reduce_mean(tf.cast(correct_prediction, tf.float32), name=\"accuracy\")\n",
    "    filename = 'preprocess_batch_1.p'\n",
    "    features, labels = pickle.load(open(filename, mode='rb'))\n",
    "    s_image_batch, s_label_batch = \\\n",
    "            tf.train.shuffle_batch([features[0:num_training], labels[0:num_training]], enqueue_many=True, batch_size=batch_size, \\\n",
    "                                   capacity = num_training, min_after_dequeue=batch_size, allow_smaller_final_batch=True)\n",
    "            \n",
    "    with tf.Session() as sess:\n",
    "        # initialize the variables\n",
    "        sess.run(tf.initialize_all_variables())\n",
    "        \n",
    "        # initialize the queue threads to start to shovel data\n",
    "        coord = tf.train.Coordinator()\n",
    "        threads = tf.train.start_queue_runners(coord=coord)\n",
    "        \n",
    "        for i in range(1, 51):\n",
    "            count = 0\n",
    "            acc = 0\n",
    "            #for t_b in load_all_training_data(batch_size):\n",
    "            for count in range(1, (num_training//batch_size) + 1):\n",
    "                imgs, lbls = sess.run([tf.reshape(s_image_batch, [-1, 3072]), s_label_batch])\n",
    "                #count += 1\n",
    "                #imgs = np.reshape(t_b[0], [-1, 32*32*3])\n",
    "                #lbls = t_b[1]\n",
    "                train_step.run(feed_dict={x: imgs, y: lbls})\n",
    "                train_accuracy = sess.run(accuracy, feed_dict={x:imgs, y:lbls})\n",
    "                acc += train_accuracy\n",
    "            acc /= count\n",
    "            \n",
    "                    \n",
    "            v_count = 0 \n",
    "            v_accuracy = 0\n",
    "            for v_b in load_all_validation_data(batch_size):\n",
    "                v_count += 1\n",
    "                flattened_v_x = np.reshape(v_b[0], [-1, 32*32*3])\n",
    "                test_accuracy = sess.run(accuracy, feed_dict={x: flattened_v_x, y: v_b[1]})\n",
    "                if(v_count % 50 == 0):\n",
    "                    print(\"for validation batch: {}, iteration: {}, accuracy: {}\".format(v_count,i,test_accuracy))\n",
    "                if(v_count * batch_size == num_testing and i == 50):\n",
    "                    pred = sess.run(prediction, feed_dict={x: flattened_v_x})\n",
    "                    display_image_predictions(v_b[0], v_b[1], pred)\n",
    "                \n",
    "                v_accuracy += test_accuracy\n",
    "            average_v_accuracy = v_accuracy / v_count\n",
    "            print(\"For epoch: {}, train accuracy: {}, validation accuracy: {}\".format(i, acc, average_v_accuracy))\n",
    "            \n",
    "        save_model_path = './cifar_image_classification'\n",
    "        # Save Model\n",
    "        saver = tf.train.Saver()\n",
    "        save_path = saver.save(sess, save_model_path)\n",
    "        \n",
    "        # stop our queue threads and properly close the session\n",
    "        coord.request_stop()\n",
    "        coord.join(threads)\n",
    "        sess.close()\n",
    "        \n",
    "        \n",
    "\n",
    "\n",
    "    \n",
    "    \n",
    "    "
   ]
  },
  {
   "cell_type": "markdown",
   "metadata": {},
   "source": [
    "Before running the network, check that loading and pre-processing have not damaged input"
   ]
  },
  {
   "cell_type": "code",
   "execution_count": 10,
   "metadata": {},
   "outputs": [
    {
     "name": "stdout",
     "output_type": "stream",
     "text": [
      "Before normalization: 1st batch, first 5 images\n",
      "\n",
      "Stats of batch 1:\n",
      "Samples: 10000\n",
      "Label Counts: {0: 1005, 1: 974, 2: 1032, 3: 1016, 4: 999, 5: 937, 6: 1030, 7: 1001, 8: 1025, 9: 981}\n",
      "First 20 Labels: [6, 9, 9, 4, 1, 1, 2, 7, 8, 3, 4, 7, 7, 2, 9, 9, 9, 3, 2, 6]\n",
      "\n",
      "Example of Image 0:\n",
      "Image - Min Value: 0 Max Value: 255\n",
      "Image - Shape: (32, 32, 3)\n",
      "Label - Label Id: 6 Name: frog\n"
     ]
    },
    {
     "data": {
      "image/png": "[encoded data removed]",
      "text/plain": [
       "<matplotlib.figure.Figure at 0xefee208>"
      ]
     },
     "metadata": {},
     "output_type": "display_data"
    },
    {
     "name": "stdout",
     "output_type": "stream",
     "text": [
      "\n",
      "Stats of batch 1:\n",
      "Samples: 10000\n",
      "Label Counts: {0: 1005, 1: 974, 2: 1032, 3: 1016, 4: 999, 5: 937, 6: 1030, 7: 1001, 8: 1025, 9: 981}\n",
      "First 20 Labels: [6, 9, 9, 4, 1, 1, 2, 7, 8, 3, 4, 7, 7, 2, 9, 9, 9, 3, 2, 6]\n",
      "\n",
      "Example of Image 1:\n",
      "Image - Min Value: 5 Max Value: 254\n",
      "Image - Shape: (32, 32, 3)\n",
      "Label - Label Id: 9 Name: truck\n"
     ]
    },
    {
     "data": {
      "image/png": "[encoded data removed]",
      "text/plain": [
       "<matplotlib.figure.Figure at 0x10dbfb70>"
      ]
     },
     "metadata": {},
     "output_type": "display_data"
    },
    {
     "name": "stdout",
     "output_type": "stream",
     "text": [
      "\n",
      "Stats of batch 1:\n",
      "Samples: 10000\n",
      "Label Counts: {0: 1005, 1: 974, 2: 1032, 3: 1016, 4: 999, 5: 937, 6: 1030, 7: 1001, 8: 1025, 9: 981}\n",
      "First 20 Labels: [6, 9, 9, 4, 1, 1, 2, 7, 8, 3, 4, 7, 7, 2, 9, 9, 9, 3, 2, 6]\n",
      "\n",
      "Example of Image 2:\n",
      "Image - Min Value: 20 Max Value: 255\n",
      "Image - Shape: (32, 32, 3)\n",
      "Label - Label Id: 9 Name: truck\n"
     ]
    },
    {
     "data": {
      "image/png": "[encoded data removed]",
      "text/plain": [
       "<matplotlib.figure.Figure at 0x11264390>"
      ]
     },
     "metadata": {},
     "output_type": "display_data"
    },
    {
     "name": "stdout",
     "output_type": "stream",
     "text": [
      "\n",
      "Stats of batch 1:\n",
      "Samples: 10000\n",
      "Label Counts: {0: 1005, 1: 974, 2: 1032, 3: 1016, 4: 999, 5: 937, 6: 1030, 7: 1001, 8: 1025, 9: 981}\n",
      "First 20 Labels: [6, 9, 9, 4, 1, 1, 2, 7, 8, 3, 4, 7, 7, 2, 9, 9, 9, 3, 2, 6]\n",
      "\n",
      "Example of Image 3:\n",
      "Image - Min Value: 4 Max Value: 234\n",
      "Image - Shape: (32, 32, 3)\n",
      "Label - Label Id: 4 Name: deer\n"
     ]
    },
    {
     "data": {
      "image/png": "[encoded data removed]",
      "text/plain": [
       "<matplotlib.figure.Figure at 0x111d6f98>"
      ]
     },
     "metadata": {},
     "output_type": "display_data"
    },
    {
     "name": "stdout",
     "output_type": "stream",
     "text": [
      "\n",
      "Stats of batch 1:\n",
      "Samples: 10000\n",
      "Label Counts: {0: 1005, 1: 974, 2: 1032, 3: 1016, 4: 999, 5: 937, 6: 1030, 7: 1001, 8: 1025, 9: 981}\n",
      "First 20 Labels: [6, 9, 9, 4, 1, 1, 2, 7, 8, 3, 4, 7, 7, 2, 9, 9, 9, 3, 2, 6]\n",
      "\n",
      "Example of Image 4:\n",
      "Image - Min Value: 0 Max Value: 254\n",
      "Image - Shape: (32, 32, 3)\n",
      "Label - Label Id: 1 Name: automobile\n"
     ]
    },
    {
     "data": {
      "image/png": "[encoded data removed]",
      "text/plain": [
       "<matplotlib.figure.Figure at 0x10d92ac8>"
      ]
     },
     "metadata": {},
     "output_type": "display_data"
    },
    {
     "name": "stdout",
     "output_type": "stream",
     "text": [
      "[6, 9, 4, 1, 2, 7, 8, 3, 5, 0]\n"
     ]
    },
    {
     "data": {
      "image/png": "[encoded data removed]",
      "text/plain": [
       "<matplotlib.figure.Figure at 0x1137b080>"
      ]
     },
     "metadata": {},
     "output_type": "display_data"
    },
    {
     "data": {
      "image/png": "[encoded data removed]",
      "text/plain": [
       "<matplotlib.figure.Figure at 0x11227390>"
      ]
     },
     "metadata": {},
     "output_type": "display_data"
    },
    {
     "name": "stdout",
     "output_type": "stream",
     "text": [
      "len(features2) :  5\n",
      "len(labels2) :  5\n",
      "After normalization: 1st batch, first five images\n"
     ]
    },
    {
     "data": {
      "image/png": "[encoded data removed]",
      "text/plain": [
       "<matplotlib.figure.Figure at 0x29a7780>"
      ]
     },
     "metadata": {},
     "output_type": "display_data"
    },
    {
     "data": {
      "image/png": "[encoded data removed]",
      "text/plain": [
       "<matplotlib.figure.Figure at 0x112bfb38>"
      ]
     },
     "metadata": {},
     "output_type": "display_data"
    },
    {
     "data": {
      "image/png": "[encoded data removed]",
      "text/plain": [
       "<matplotlib.figure.Figure at 0x10e36eb8>"
      ]
     },
     "metadata": {},
     "output_type": "display_data"
    },
    {
     "data": {
      "image/png": "[encoded data removed]",
      "text/plain": [
       "<matplotlib.figure.Figure at 0x112eee10>"
      ]
     },
     "metadata": {},
     "output_type": "display_data"
    },
    {
     "data": {
      "image/png": "[encoded data removed]",
      "text/plain": [
       "<matplotlib.figure.Figure at 0x114b1390>"
      ]
     },
     "metadata": {},
     "output_type": "display_data"
    },
    {
     "name": "stdout",
     "output_type": "stream",
     "text": [
      "Loading and Saving Data done....Now Training\n",
      "=============================================\n"
     ]
    }
   ],
   "source": [
    "preprocess_and_save_data(cifar10_dataset_folder_path, normalize, one_hot_encode)\n",
    "print(\"Loading and Saving Data done....Now Training\")\n",
    "print('=============================================')"
   ]
  },
  {
   "cell_type": "markdown",
   "metadata": {},
   "source": [
    "Run the network on pre-processed train and validation dataset."
   ]
  },
  {
   "cell_type": "code",
   "execution_count": 11,
   "metadata": {},
   "outputs": [
    {
     "name": "stdout",
     "output_type": "stream",
     "text": [
      "WARNING:tensorflow:From <ipython-input-9-c56346918819>:3: softmax_cross_entropy_with_logits (from tensorflow.python.ops.nn_ops) is deprecated and will be removed in a future version.\n",
      "Instructions for updating:\n",
      "\n",
      "Future major versions of TensorFlow will allow gradients to flow\n",
      "into the labels input on backprop by default.\n",
      "\n",
      "See tf.nn.softmax_cross_entropy_with_logits_v2.\n",
      "\n",
      "WARNING:tensorflow:From C:\\Users\\Monica\\Anaconda3\\lib\\site-packages\\tensorflow\\python\\util\\tf_should_use.py:118: initialize_all_variables (from tensorflow.python.ops.variables) is deprecated and will be removed after 2017-03-02.\n",
      "Instructions for updating:\n",
      "Use `tf.global_variables_initializer` instead.\n",
      "For epoch: 1, train accuracy: 0.24589999916031957, validation accuracy: 0.28900000024586914\n",
      "For epoch: 2, train accuracy: 0.3239000003784895, validation accuracy: 0.31000000089406965\n",
      "For epoch: 3, train accuracy: 0.3605999997071922, validation accuracy: 0.3160000011324883\n",
      "For epoch: 4, train accuracy: 0.40739999959245327, validation accuracy: 0.33499999940395353\n",
      "For epoch: 5, train accuracy: 0.4386999987065792, validation accuracy: 0.3449999999254942\n",
      "For epoch: 6, train accuracy: 0.4674999984353781, validation accuracy: 0.36000000052154063\n",
      "For epoch: 7, train accuracy: 0.5098999984934927, validation accuracy: 0.3830000013113022\n",
      "For epoch: 8, train accuracy: 0.5423999997228384, validation accuracy: 0.3730000011622906\n",
      "For epoch: 9, train accuracy: 0.5898000010102987, validation accuracy: 0.3929999992251396\n",
      "For epoch: 10, train accuracy: 0.6153000032156706, validation accuracy: 0.4100000005215406\n",
      "For epoch: 11, train accuracy: 0.6600000037997961, validation accuracy: 0.41500000320374963\n",
      "For epoch: 12, train accuracy: 0.6788000047206879, validation accuracy: 0.4189999993890524\n",
      "For epoch: 13, train accuracy: 0.7301000025123358, validation accuracy: 0.4389999981969595\n",
      "For epoch: 14, train accuracy: 0.758000002130866, validation accuracy: 0.4139999996870756\n",
      "For epoch: 15, train accuracy: 0.7901000002026558, validation accuracy: 0.4200000036507845\n",
      "For epoch: 16, train accuracy: 0.8170999978482724, validation accuracy: 0.43499999977648257\n",
      "For epoch: 17, train accuracy: 0.847799996882677, validation accuracy: 0.42800000086426737\n",
      "For epoch: 18, train accuracy: 0.8710999974608421, validation accuracy: 0.444999997317791\n",
      "For epoch: 19, train accuracy: 0.8943999969959259, validation accuracy: 0.4570000022649765\n",
      "For epoch: 20, train accuracy: 0.9178999963402749, validation accuracy: 0.46100000068545344\n",
      "For epoch: 21, train accuracy: 0.9248999951779843, validation accuracy: 0.4289999984204769\n",
      "For epoch: 22, train accuracy: 0.9423999942839145, validation accuracy: 0.46499999761581423\n",
      "For epoch: 23, train accuracy: 0.9562999948859214, validation accuracy: 0.4499999966472387\n",
      "For epoch: 24, train accuracy: 0.9588999938964844, validation accuracy: 0.45200000070035457\n",
      "For epoch: 25, train accuracy: 0.9722999957203865, validation accuracy: 0.4819999985396862\n",
      "For epoch: 26, train accuracy: 0.9751999941468239, validation accuracy: 0.45999999940395353\n",
      "For epoch: 27, train accuracy: 0.985699995458126, validation accuracy: 0.47900000065565107\n",
      "For epoch: 28, train accuracy: 0.9936999970674515, validation accuracy: 0.47799999788403513\n",
      "For epoch: 29, train accuracy: 0.9921999970078468, validation accuracy: 0.46400000266730784\n",
      "For epoch: 30, train accuracy: 0.9926999968290329, validation accuracy: 0.46000000052154066\n",
      "For epoch: 31, train accuracy: 0.9939999972283841, validation accuracy: 0.4590000003576279\n",
      "For epoch: 32, train accuracy: 0.9846999962627888, validation accuracy: 0.48000000044703484\n",
      "For epoch: 33, train accuracy: 0.9992999996244908, validation accuracy: 0.4760000012814999\n",
      "For epoch: 34, train accuracy: 0.9998999999463558, validation accuracy: 0.4820000007748604\n",
      "For epoch: 35, train accuracy: 0.9998999999463558, validation accuracy: 0.4850000016391277\n",
      "For epoch: 36, train accuracy: 1.0, validation accuracy: 0.4890000008046627\n",
      "For epoch: 37, train accuracy: 0.9998999999463558, validation accuracy: 0.4569999981671572\n",
      "For epoch: 38, train accuracy: 0.9764999957382678, validation accuracy: 0.4839999996125698\n",
      "For epoch: 39, train accuracy: 0.9993999996781349, validation accuracy: 0.48799999952316286\n",
      "For epoch: 40, train accuracy: 1.0, validation accuracy: 0.4969999991357327\n",
      "For epoch: 41, train accuracy: 1.0, validation accuracy: 0.4890000008046627\n",
      "For epoch: 42, train accuracy: 1.0, validation accuracy: 0.4849999986588955\n",
      "For epoch: 43, train accuracy: 1.0, validation accuracy: 0.4849999971687794\n",
      "For epoch: 44, train accuracy: 1.0, validation accuracy: 0.47699999809265137\n",
      "For epoch: 45, train accuracy: 1.0, validation accuracy: 0.48499999940395355\n",
      "For epoch: 46, train accuracy: 0.9745999976992608, validation accuracy: 0.4589999996125698\n",
      "For epoch: 47, train accuracy: 0.9898999972641468, validation accuracy: 0.4809999980032444\n",
      "For epoch: 48, train accuracy: 0.9997999998927116, validation accuracy: 0.4989999979734421\n",
      "For epoch: 49, train accuracy: 1.0, validation accuracy: 0.4929999992251396\n",
      "For epoch: 50, train accuracy: 1.0, validation accuracy: 0.5\n",
      "Training and Displaying Network done....Now Testing\n",
      "=============================================\n"
     ]
    }
   ],
   "source": [
    "train_neural_network(x, conv_network_model)\n",
    "print(\"Training and Displaying Network done....Now Testing\")\n",
    "print('=============================================')"
   ]
  },
  {
   "cell_type": "markdown",
   "metadata": {},
   "source": [
    "Test the saved model"
   ]
  },
  {
   "cell_type": "code",
   "execution_count": 14,
   "metadata": {},
   "outputs": [
    {
     "name": "stdout",
     "output_type": "stream",
     "text": [
      "INFO:tensorflow:Restoring parameters from ./cifar_image_classification\n",
      "Testing Accuracy: 0.4933333396911621\n",
      "\n",
      "Testing Done.\n",
      "===============\n"
     ]
    }
   ],
   "source": [
    "%matplotlib inline\n",
    "%config InlineBackend.figure_format = 'retina'\n",
    "\n",
    "import tensorflow as tf\n",
    "import pickle\n",
    "import random\n",
    "\n",
    "# Set batch size if not already set\n",
    "try:\n",
    "    if batch_size:\n",
    "        pass\n",
    "except NameError:\n",
    "    batch_size = 64\n",
    "\n",
    "save_model_path = './cifar_image_classification'\n",
    "n_samples = 4\n",
    "top_n_predictions = 3\n",
    "\n",
    "def test_model():\n",
    "    \"\"\"\n",
    "    Test the saved model against the test dataset\n",
    "    \"\"\"\n",
    "\n",
    "    test_features, test_labels = pickle.load(open('preprocess_testing.p', mode='rb'))\n",
    "    loaded_graph = tf.Graph()\n",
    "\n",
    "    with tf.Session(graph=loaded_graph) as sess:\n",
    "        # Load model``````````````````````````````````\n",
    "        loader = tf.train.import_meta_graph(save_model_path + '.meta')\n",
    "        loader.restore(sess, save_model_path)\n",
    "        \n",
    "\n",
    "        # Get Tensors from loaded model\n",
    "        loaded_x = loaded_graph.get_tensor_by_name('x:0')\n",
    "        loaded_y = loaded_graph.get_tensor_by_name('y:0')\n",
    "        #loaded_keep_prob = loaded_graph.get_tensor_by_name('keep_prob:0')\n",
    "        loaded_logits = loaded_graph.get_tensor_by_name('prediction:0')\n",
    "        loaded_acc = loaded_graph.get_tensor_by_name('accuracy:0')\n",
    "        \n",
    "        \n",
    "        # Get accuracy in batches for memory limitations\n",
    "        test_batch_acc_total = 0\n",
    "        test_batch_count = 0\n",
    "        \n",
    "        for test_feature_batch, test_label_batch in batch_features_labels(test_features[0:100], test_labels[0:100], batch_size):\n",
    "            test_batch_acc_total += sess.run(\n",
    "                loaded_acc,\n",
    "                feed_dict={loaded_x: np.reshape(test_feature_batch, [-1, 3072]), loaded_y: test_label_batch})\n",
    "            test_batch_count += 1\n",
    "\n",
    "        print('Testing Accuracy: {}\\n'.format(test_batch_acc_total/test_batch_count))\n",
    "\n",
    "\n",
    "test_model()\n",
    "print(\"Testing Done.\")\n",
    "print(\"===============\")"
   ]
  },
  {
   "cell_type": "code",
   "execution_count": null,
   "metadata": {},
   "outputs": [],
   "source": []
  },
  {
   "cell_type": "code",
   "execution_count": null,
   "metadata": {},
   "outputs": [],
   "source": []
  },
  {
   "cell_type": "code",
   "execution_count": null,
   "metadata": {},
   "outputs": [],
   "source": []
  }
 ],
 "metadata": {
  "kernelspec": {
   "display_name": "Python 3",
   "language": "python",
   "name": "python3"
  },
  "language_info": {
   "codemirror_mode": {
    "name": "ipython",
    "version": 3
   },
   "file_extension": ".py",
   "mimetype": "text/x-python",
   "name": "python",
   "nbconvert_exporter": "python",
   "pygments_lexer": "ipython3",
   "version": "3.6.4"
  }
 },
 "nbformat": 4,
 "nbformat_minor": 2
}
